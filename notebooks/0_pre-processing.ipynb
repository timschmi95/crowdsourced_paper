{
 "cells": [
  {
   "cell_type": "markdown",
   "metadata": {},
   "source": [
    "# Pre processing\n",
    "#### In this script, crowdsourced data is loaded, time and spatial coordinates are formatted"
   ]
  },
  {
   "cell_type": "code",
   "execution_count": 1,
   "metadata": {},
   "outputs": [],
   "source": [
    "#Load packages\n",
    "import pandas as pd\n",
    "import numpy as np\n",
    "import matplotlib.pyplot as plt\n",
    "import os\n",
    "import sys\n",
    "import xarray as xr\n",
    "import datetime as dt\n",
    "import cartopy.crs as ccrs\n",
    "import geopandas as gpd\n",
    "import cartopy.feature as cf\n",
    "\n",
    "from climada import CONFIG\n",
    "import scClim as sc\n",
    "import seaborn as sns\n",
    "\n",
    "data_dir = str(CONFIG.local_data.data_dir)\n",
    "out_dir = str(CONFIG.local_data.out_dir)"
   ]
  },
  {
   "cell_type": "code",
   "execution_count": 14,
   "metadata": {},
   "outputs": [
    {
     "name": "stdout",
     "output_type": "stream",
     "text": [
      "Removing reports based on suspicious user behaviour. Total: 16511 reports: 4.75%\n"
     ]
    }
   ],
   "source": [
    "#Load raw data\n",
    "crowdsourcing_path = f'{data_dir}/crowd-source/crowd_consolidated_2015-05-02_2023-10-15.csv'\n",
    "str_cols = ['OsVersion','AppVersion','Language','size_text','size_text_new']\n",
    "crowd_data = pd.read_csv(crowdsourcing_path,dtype={v:str for v in str_cols})\n",
    "\n",
    "#Remove reports with suspicious reporting behaviour as defined by Barras et al (2019) and extended by the 4-reports criterion by Kopp et al (2024)\n",
    "cond=(crowd_data['Flag_30min']==0) & (crowd_data['Flag_blacklist']==0) & (crowd_data['Flag_N_day_ID_4']==0)\n",
    "print(f\"Removing reports based on suspicious user behaviour. Total: {(~cond).sum()} reports: {(~cond).sum()/crowd_data.shape[0]*100:.2f}%\")\n",
    "crowd_data = crowd_data.loc[cond]\n",
    "\n",
    "#For now only apply basic filtering based on the CZC flag (CZC>35)\n",
    "crowd_data['FILTEREDOUT'] = crowd_data['Flag_CZC']\n",
    "\n",
    "#Add time and hour columns\n",
    "crowd_data[\"time_dt\"] = pd.to_datetime(crowd_data.Time).dt.tz_localize(None) # Remove timezone information (UTC)\n",
    "crowd_data['hailday'] = (crowd_data[\"time_dt\"] - pd.Timedelta(hours=6)).dt.date  #use -6h, to get haildays correctly! (1 hailday: 6UTC-6UTC)\n",
    "\n",
    "#Add columns with time of day\n",
    "crowd_data['hour_int'] = crowd_data.time_dt.dt.hour\n",
    "crowd_data[\"hour\"] = crowd_data.time_dt.dt.hour + crowd_data.time_dt.dt.minute/60\n",
    "\n",
    "# Convert hail size codes to corresponding columns: size_mm, size_text, size_mm_text\n",
    "crowd_data = sc.crowd_process.map_hailsize(crowd_data)"
   ]
  },
  {
   "cell_type": "code",
   "execution_count": 16,
   "metadata": {},
   "outputs": [],
   "source": [
    "#Convert x and y coordinates to Swiss coordinates (EPSG 2056)\n",
    "geometry = gpd.points_from_xy(crowd_data.x, crowd_data.y,crs='epsg:21781').to_crs(epsg=2056)\n",
    "crowd_data['chx'] = geometry.x\n",
    "crowd_data['chy'] = geometry.y"
   ]
  },
  {
   "cell_type": "code",
   "execution_count": 17,
   "metadata": {},
   "outputs": [
    {
     "name": "stdout",
     "output_type": "stream",
     "text": [
      "Total reports (excluding 'no hail'):260099\n",
      "Total reports after July 2020:214710\n",
      "Fraction of reports after July 2020:82.5%\n"
     ]
    }
   ],
   "source": [
    "#Number of reports starting July 2027\n",
    "print(f\"Total reports (excluding 'no hail'):{(~crowd_data.no_hail).sum()}\")\n",
    "print(f\"Total reports after July 2020:{(~crowd_data.no_hail & (crowd_data.hailday>dt.date(2020,7,1))).sum()}\")\n",
    "print(f\"Fraction of reports after July 2020:{(~crowd_data.no_hail & (crowd_data.hailday>dt.date(2020,7,1))).sum()/(~crowd_data.no_hail).sum():.1%}\")"
   ]
  },
  {
   "cell_type": "code",
   "execution_count": 18,
   "metadata": {},
   "outputs": [],
   "source": [
    "#Save data to csv\n",
    "crowd_data.to_csv(f'{data_dir}/crowd-source/crowd_processed_paper.csv',index=False)"
   ]
  }
 ],
 "metadata": {
  "kernelspec": {
   "display_name": "climada_3_3",
   "language": "python",
   "name": "python3"
  },
  "language_info": {
   "codemirror_mode": {
    "name": "ipython",
    "version": 3
   },
   "file_extension": ".py",
   "mimetype": "text/x-python",
   "name": "python",
   "nbconvert_exporter": "python",
   "pygments_lexer": "ipython3",
   "version": "3.9.18"
  }
 },
 "nbformat": 4,
 "nbformat_minor": 2
}
